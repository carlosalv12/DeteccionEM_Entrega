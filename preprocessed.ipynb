{
 "cells": [
  {
   "cell_type": "markdown",
   "metadata": {},
   "source": [
    "# Inicialización de datasets"
   ]
  },
  {
   "cell_type": "code",
   "execution_count": 16,
   "metadata": {},
   "outputs": [
    {
     "name": "stdout",
     "output_type": "stream",
     "text": [
      "   score                                           selftext subreddit  \\\n",
      "0    1.0  Tried to watch this documentary “anxious Ameri...   Anxiety   \n",
      "1    1.0  i’m currently laying in bed wide awake, feelin...   Anxiety   \n",
      "2    2.0  Second time trying weed. First time felt close...   Anxiety   \n",
      "3    1.0  I am not posting this for me, but rather for m...   Anxiety   \n",
      "4    1.0  21 year old male been dealing with anxiety eve...   Anxiety   \n",
      "\n",
      "                                               title             Label  \n",
      "0                        Do people get over anxiety?  Drug and Alcohol  \n",
      "1  does anyone else have this big fear of suddenl...  Drug and Alcohol  \n",
      "2         3 hour long panic attack after trying weed  Drug and Alcohol  \n",
      "3  Please leave in the comments ANYTHING that has...  Drug and Alcohol  \n",
      "4                                    Alcohol induced  Drug and Alcohol  \n",
      "----------------------\n",
      "   score                                           selftext subreddit  \\\n",
      "0      1  Of Covid-19. Of 2021. Of not getting the vacci...   Anxiety   \n",
      "1      1  i feel like im losing my mind, my health anxie...   Anxiety   \n",
      "2      1  This year I’ve realized I really fear death. M...   Anxiety   \n",
      "3      1  Hiya~ There have been a couple teenagers at wo...   Anxiety   \n",
      "4      1  I need some advice. I have anxiety, and I have...   Anxiety   \n",
      "\n",
      "                                               title       Label  CAT 1  \n",
      "0                                         I'm scared  Early life    NaN  \n",
      "1  experiencing fear so visceral i unlocked memor...  Early life    NaN  \n",
      "2  Fear of dying significantly deteriorating my q...  Early life    NaN  \n",
      "3  I’ve been harassed at work for a couple months...  Early life    NaN  \n",
      "4         Why do I feel like I am constantly dying ?  Early life    NaN  \n",
      "----------------------\n",
      "   score                                           selftext subreddit  \\\n",
      "0      1  A very minor thing happened which triggered my...   Anxiety   \n",
      "1      1  Hi, I am a 52-year-old female who has been dea...   Anxiety   \n",
      "2      1  I know it’s just the season,  it everything so...   Anxiety   \n",
      "3      1  I hold a very close connection to my interests...   Anxiety   \n",
      "4      1  Have you ever been triggered just before bed? ...   Anxiety   \n",
      "\n",
      "                                               title        Label  CAT 1  \n",
      "0                          I lost the strength in me  Personality    NaN  \n",
      "1  Looking to be supported and support others lik...  Personality    NaN  \n",
      "2                       I know it’s just the season.  Personality    NaN  \n",
      "3  I hate talking about my interests with people ...  Personality    NaN  \n",
      "4                                    Anxiety Tonight  Personality    NaN  \n",
      "----------------------\n",
      "   score                                           selftext subreddit  \\\n",
      "0      1  So my therapist recommended to me that I shoul...   Anxiety   \n",
      "1      1  Hey all! I'd like to start this thread to mayb...   Anxiety   \n",
      "2      1  When does it come? I made so many silly posts ...   Anxiety   \n",
      "3      1  I've been working at a job (~6 months so far) ...   Anxiety   \n",
      "4      1  Excuse me ma'am im literally hyperventilating ...   Anxiety   \n",
      "\n",
      "                                               title               Label  \\\n",
      "0  My story of anxiety and an emotionally abusive...  Trauma and Stress    \n",
      "1                    How do you fill your empty cup?  Trauma and Stress    \n",
      "2  Im high and I think I realized what I’ve been ...  Trauma and Stress    \n",
      "3         Feeling down because of a customer at work  Trauma and Stress    \n",
      "4                   \"Your anxiety cant be an excuse\"  Trauma and Stress    \n",
      "\n",
      "          CAT 1  \n",
      "0  Relationship  \n",
      "1    Loneliness  \n",
      "2    Loneliness  \n",
      "3   Work Stress  \n",
      "4   Work Stress  \n"
     ]
    }
   ],
   "source": [
    "import pandas as pd\n",
    "\n",
    "# Cargar el archivo CSV en un DataFrame\n",
    "file_path = r'C:\\Users\\carlo\\OneDrive\\Escritorio\\Master\\TFM\\archive (1)\\Original Reddit Data\\Labelled Data\\LD DA 1.csv'  # Reemplaza con la ruta de tu archivo CSV\n",
    "df_DA = pd.read_csv(file_path)\n",
    "file_path = r'C:\\Users\\carlo\\OneDrive\\Escritorio\\Master\\TFM\\archive (1)\\Original Reddit Data\\Labelled Data\\LD EL1.csv'  # Reemplaza con la ruta de tu archivo CSV\n",
    "df_EL = pd.read_csv(file_path)\n",
    "file_path = r'C:\\Users\\carlo\\OneDrive\\Escritorio\\Master\\TFM\\archive (1)\\Original Reddit Data\\Labelled Data\\LD PF1.csv'  # Reemplaza con la ruta de tu archivo CSV\n",
    "df_PF = pd.read_csv(file_path)\n",
    "file_path = r'C:\\Users\\carlo\\OneDrive\\Escritorio\\Master\\TFM\\archive (1)\\Original Reddit Data\\Labelled Data\\LD TS 1.csv'  # Reemplaza con la ruta de tu archivo CSV\n",
    "df_TS = pd.read_csv(file_path)\n",
    "\n",
    "# Mostrar las primeras filas del DataFrame para verificar la carga\n",
    "print(df_DA.head())\n",
    "print(\"----------------------\")\n",
    "print(df_EL.head())\n",
    "print(\"----------------------\")\n",
    "print(df_PF.head())\n",
    "print(\"----------------------\")\n",
    "print(df_TS.head())\n"
   ]
  },
  {
   "cell_type": "markdown",
   "metadata": {},
   "source": [
    "## Merge de los datasets"
   ]
  },
  {
   "cell_type": "code",
   "execution_count": 17,
   "metadata": {},
   "outputs": [
    {
     "name": "stdout",
     "output_type": "stream",
     "text": [
      "   score                                           selftext subreddit  \\\n",
      "0    1.0  Tried to watch this documentary “anxious Ameri...   Anxiety   \n",
      "1    1.0  i’m currently laying in bed wide awake, feelin...   Anxiety   \n",
      "2    2.0  Second time trying weed. First time felt close...   Anxiety   \n",
      "3    1.0  I am not posting this for me, but rather for m...   Anxiety   \n",
      "4    1.0  21 year old male been dealing with anxiety eve...   Anxiety   \n",
      "\n",
      "                                               title             Label CAT 1  \n",
      "0                        Do people get over anxiety?  Drug and Alcohol   NaN  \n",
      "1  does anyone else have this big fear of suddenl...  Drug and Alcohol   NaN  \n",
      "2         3 hour long panic attack after trying weed  Drug and Alcohol   NaN  \n",
      "3  Please leave in the comments ANYTHING that has...  Drug and Alcohol   NaN  \n",
      "4                                    Alcohol induced  Drug and Alcohol   NaN  \n"
     ]
    }
   ],
   "source": [
    "# Combinar los cuatro DataFrames en uno solo\n",
    "df_combined = pd.concat([df_DA, df_EL, df_PF, df_TS], ignore_index=True)\n",
    "\n",
    "# Mostrar las primeras filas del DataFrame combinado para verificar\n",
    "print(df_combined.head())"
   ]
  },
  {
   "cell_type": "code",
   "execution_count": 18,
   "metadata": {},
   "outputs": [
    {
     "name": "stdout",
     "output_type": "stream",
     "text": [
      "score                                                                                                                                                                                                                                                                                                                                                                                                                                                                                                                                                                                                                                                                                                 1.0\n",
      "selftext     Tried to watch this documentary “anxious America” and it kinda just made things worse. Most of the people in the movie have houses, an education ext, ext. and they still have anxiety. How the fuck do you get better when you have no future. No funds for an education. I’m also an alcoholic cause that helps me forget about shit. But watching this and these people have anxiety, while they have an education and a license and shit. Not saying no one can have anxiety, but if someone with a life can’t get over anxiety how do I have a chance... Like I’m so much further behind these people that are so lost they made a documentary about them. Am I past the point of lost?\n",
      "subreddit                                                                                                                                                                                                                                                                                                                                                                                                                                                                                                                                                                                                                                                                                         Anxiety\n",
      "title                                                                                                                                                                                                                                                                                                                                                                                                                                                                                                                                                                                                                                                                         Do people get over anxiety?\n",
      "Label                                                                                                                                                                                                                                                                                                                                                                                                                                                                                                                                                                                                                                                                                    Drug and Alcohol\n",
      "CAT 1                                                                                                                                                                                                                                                                                                                                                                                                                                                                                                                                                                                                                                                                                                 NaN\n",
      "Name: 0, dtype: object\n"
     ]
    }
   ],
   "source": [
    "# Aumentar el ancho máximo para mostrar contenido completo\n",
    "pd.set_option('display.max_colwidth', None)\n",
    "\n",
    "# Ahora puedes ver el campo largo sin que se corte\n",
    "print(df_combined.iloc[0])\n"
   ]
  },
  {
   "cell_type": "code",
   "execution_count": 19,
   "metadata": {},
   "outputs": [
    {
     "name": "stdout",
     "output_type": "stream",
     "text": [
      "Número de filas: 823\n",
      "Número de columnas: 6\n",
      "\n",
      "Nombres de las columnas:\n",
      "['score', 'selftext', 'subreddit', 'title', 'Label', 'CAT 1']\n"
     ]
    }
   ],
   "source": [
    "num_filas, num_columnas = df_combined.shape\n",
    "print(f\"Número de filas: {num_filas}\")\n",
    "print(f\"Número de columnas: {num_columnas}\")\n",
    "\n",
    "# Nombres de las columnas\n",
    "print(\"\\nNombres de las columnas:\")\n",
    "print(df_combined.columns.tolist())"
   ]
  },
  {
   "cell_type": "code",
   "execution_count": 8,
   "metadata": {},
   "outputs": [
    {
     "name": "stdout",
     "output_type": "stream",
     "text": [
      "   score                                           selftext subreddit  \\\n",
      "0      1  So my therapist recommended to me that I shoul...   Anxiety   \n",
      "1      1  Hey all! I'd like to start this thread to mayb...   Anxiety   \n",
      "2      1  When does it come? I made so many silly posts ...   Anxiety   \n",
      "3      1  I've been working at a job (~6 months so far) ...   Anxiety   \n",
      "4      1  Excuse me ma'am im literally hyperventilating ...   Anxiety   \n",
      "\n",
      "                                               title               Label  \\\n",
      "0  My story of anxiety and an emotionally abusive...  Trauma and Stress    \n",
      "1                    How do you fill your empty cup?  Trauma and Stress    \n",
      "2  Im high and I think I realized what I’ve been ...  Trauma and Stress    \n",
      "3         Feeling down because of a customer at work  Trauma and Stress    \n",
      "4                   \"Your anxiety cant be an excuse\"  Trauma and Stress    \n",
      "\n",
      "          CAT 1  \n",
      "0  Relationship  \n",
      "1    Loneliness  \n",
      "2    Loneliness  \n",
      "3   Work Stress  \n",
      "4   Work Stress  \n"
     ]
    }
   ],
   "source": [
    "print(df_TS.head())"
   ]
  },
  {
   "cell_type": "markdown",
   "metadata": {},
   "source": [
    "# Estudio de las columnas"
   ]
  },
  {
   "cell_type": "code",
   "execution_count": null,
   "metadata": {},
   "outputs": [
    {
     "name": "stdout",
     "output_type": "stream",
     "text": [
      "Número de filas duplicadas en el dataset: 22\n"
     ]
    }
   ],
   "source": [
    "# Número de filas duplicadas (filas que aparecen más de una vez)\n",
    "num_duplicados = df_combined.duplicated().sum()\n",
    "print(f\"Número de filas duplicadas en el dataset: {num_duplicados}\")"
   ]
  },
  {
   "cell_type": "code",
   "execution_count": 7,
   "metadata": {},
   "outputs": [
    {
     "name": "stdout",
     "output_type": "stream",
     "text": [
      "\n",
      "Filas duplicadas encontradas:\n",
      "     score selftext subreddit title Label CAT 1  title_word_count\n",
      "200    NaN      NaN       NaN   NaN   NaN   NaN                 1\n",
      "201    NaN      NaN       NaN   NaN   NaN   NaN                 1\n",
      "202    NaN      NaN       NaN   NaN   NaN   NaN                 1\n",
      "203    NaN      NaN       NaN   NaN   NaN   NaN                 1\n",
      "204    NaN      NaN       NaN   NaN   NaN   NaN                 1\n",
      "205    NaN      NaN       NaN   NaN   NaN   NaN                 1\n",
      "206    NaN      NaN       NaN   NaN   NaN   NaN                 1\n",
      "207    NaN      NaN       NaN   NaN   NaN   NaN                 1\n",
      "208    NaN      NaN       NaN   NaN   NaN   NaN                 1\n",
      "209    NaN      NaN       NaN   NaN   NaN   NaN                 1\n",
      "210    NaN      NaN       NaN   NaN   NaN   NaN                 1\n",
      "211    NaN      NaN       NaN   NaN   NaN   NaN                 1\n",
      "212    NaN      NaN       NaN   NaN   NaN   NaN                 1\n",
      "213    NaN      NaN       NaN   NaN   NaN   NaN                 1\n",
      "214    NaN      NaN       NaN   NaN   NaN   NaN                 1\n",
      "215    NaN      NaN       NaN   NaN   NaN   NaN                 1\n",
      "216    NaN      NaN       NaN   NaN   NaN   NaN                 1\n",
      "217    NaN      NaN       NaN   NaN   NaN   NaN                 1\n",
      "218    NaN      NaN       NaN   NaN   NaN   NaN                 1\n",
      "219    NaN      NaN       NaN   NaN   NaN   NaN                 1\n",
      "220    NaN      NaN       NaN   NaN   NaN   NaN                 1\n",
      "221    NaN      NaN       NaN   NaN   NaN   NaN                 1\n",
      "222    NaN      NaN       NaN   NaN   NaN   NaN                 1\n"
     ]
    }
   ],
   "source": [
    "duplicados = df_combined[df_combined.duplicated(keep=False)]\n",
    "print(\"\\nFilas duplicadas encontradas:\")\n",
    "print(duplicados)"
   ]
  },
  {
   "cell_type": "code",
   "execution_count": 24,
   "metadata": {},
   "outputs": [
    {
     "name": "stdout",
     "output_type": "stream",
     "text": [
      "Número de filas después de eliminar filas con todas esas columnas NaN: 800\n"
     ]
    }
   ],
   "source": [
    "cols_a_verificar = ['score', 'selftext', 'subreddit', 'title', 'Label', 'CAT 1']\n",
    "\n",
    "df_limpio = df_combined.dropna(subset=cols_a_verificar, how='all')\n",
    "\n",
    "print(f\"Número de filas después de eliminar filas con todas esas columnas NaN: {len(df_limpio)}\")"
   ]
  },
  {
   "cell_type": "code",
   "execution_count": null,
   "metadata": {},
   "outputs": [
    {
     "name": "stdout",
     "output_type": "stream",
     "text": [
      "Columna: score\n",
      "Columna: selftext\n",
      "Columna: subreddit\n",
      "Columna: title\n",
      "Columna: Label\n",
      "Columna: CAT 1\n"
     ]
    }
   ],
   "source": [
    "for column in df_limpio.columns:\n",
    "    print(f\"Columna: {column}\")"
   ]
  },
  {
   "cell_type": "markdown",
   "metadata": {},
   "source": [
    "## Score"
   ]
  },
  {
   "cell_type": "code",
   "execution_count": 23,
   "metadata": {},
   "outputs": [
    {
     "name": "stdout",
     "output_type": "stream",
     "text": [
      "Valores únicos en la columna 'score': [1. 2. 3.]\n",
      "\n",
      "Frecuencia de cada valor en la columna 'score':\n",
      "score\n",
      "1.0    794\n",
      "2.0      4\n",
      "3.0      2\n",
      "Name: count, dtype: int64\n",
      "\n",
      "Estadísticas descriptivas de la columna 'score':\n",
      "count    800.000000\n",
      "mean       1.010000\n",
      "std        0.122142\n",
      "min        1.000000\n",
      "25%        1.000000\n",
      "50%        1.000000\n",
      "75%        1.000000\n",
      "max        3.000000\n",
      "Name: score, dtype: float64\n",
      "\n",
      "Cantidad de valores nulos en la columna 'score': 0\n"
     ]
    }
   ],
   "source": [
    "# Ver valores únicos\n",
    "unique_values = df_limpio['score'].unique()\n",
    "print(f\"Valores únicos en la columna 'score': {unique_values}\")\n",
    "\n",
    "# Contar la frecuencia de cada valor\n",
    "value_counts = df_limpio['score'].value_counts()\n",
    "print(\"\\nFrecuencia de cada valor en la columna 'score':\")\n",
    "print(value_counts)\n",
    "\n",
    "# Calcular estadísticas descriptivas\n",
    "stats = df_limpio['score'].describe()\n",
    "print(\"\\nEstadísticas descriptivas de la columna 'score':\")\n",
    "print(stats)\n",
    "\n",
    "# Verificar valores nulos\n",
    "null_count = df_limpio['score'].isnull().sum()\n",
    "print(f\"\\nCantidad de valores nulos en la columna 'score': {null_count}\")"
   ]
  },
  {
   "cell_type": "markdown",
   "metadata": {},
   "source": [
    "De 800 valores, solo 6 son distintos de 1"
   ]
  },
  {
   "cell_type": "markdown",
   "metadata": {},
   "source": [
    "## Title"
   ]
  },
  {
   "cell_type": "code",
   "execution_count": 25,
   "metadata": {},
   "outputs": [
    {
     "name": "stdout",
     "output_type": "stream",
     "text": [
      "Número medio de palabras en la columna 'title': 7.98375\n",
      "\n",
      "Estadísticas descriptivas del número de palabras en 'title':\n",
      "count    800.000000\n",
      "mean       7.983750\n",
      "std        5.842401\n",
      "min        1.000000\n",
      "25%        4.000000\n",
      "50%        7.000000\n",
      "75%       10.250000\n",
      "max       48.000000\n",
      "Name: title_word_count, dtype: float64\n",
      "\n",
      "Cantidad de valores nulos en la columna 'title': 0\n"
     ]
    },
    {
     "name": "stderr",
     "output_type": "stream",
     "text": [
      "C:\\Users\\carlo\\AppData\\Local\\Temp\\ipykernel_5548\\2925134334.py:2: SettingWithCopyWarning: \n",
      "A value is trying to be set on a copy of a slice from a DataFrame.\n",
      "Try using .loc[row_indexer,col_indexer] = value instead\n",
      "\n",
      "See the caveats in the documentation: https://pandas.pydata.org/pandas-docs/stable/user_guide/indexing.html#returning-a-view-versus-a-copy\n",
      "  df_limpio['title_word_count'] = df_limpio['title'].apply(lambda x: len(str(x).split()))\n"
     ]
    }
   ],
   "source": [
    "# Calcular el número de palabras por título\n",
    "df_limpio['title_word_count'] = df_limpio['title'].apply(lambda x: len(str(x).split()))\n",
    "\n",
    "# Calcular el número medio de palabras en la columna 'title'\n",
    "mean_word_count = df_limpio['title_word_count'].mean()\n",
    "print(f\"Número medio de palabras en la columna 'title': {mean_word_count}\")\n",
    "\n",
    "# Calcular estadísticas descriptivas del número de palabras\n",
    "stats = df_limpio['title_word_count'].describe()\n",
    "print(\"\\nEstadísticas descriptivas del número de palabras en 'title':\")\n",
    "print(stats)\n",
    "\n",
    "# Verificar valores nulos en la columna 'title'\n",
    "null_count = df_limpio['title'].isnull().sum()\n",
    "print(f\"\\nCantidad de valores nulos en la columna 'title': {null_count}\")\n"
   ]
  },
  {
   "cell_type": "code",
   "execution_count": 29,
   "metadata": {},
   "outputs": [],
   "source": [
    "df_limpio = df_limpio.drop(columns=['title_word_count'])\n"
   ]
  },
  {
   "cell_type": "markdown",
   "metadata": {},
   "source": [
    "## Label"
   ]
  },
  {
   "cell_type": "code",
   "execution_count": 30,
   "metadata": {},
   "outputs": [
    {
     "name": "stdout",
     "output_type": "stream",
     "text": [
      "Valores únicos en la columna 'Label': ['drug and alcohol' 'early life' 'personality' 'trauma and stress '\n",
      " 'trauma and stress']\n",
      "\n",
      "Frecuencia de cada valor en la columna 'Label':\n",
      "Label\n",
      "drug and alcohol      200\n",
      "early life            200\n",
      "personality           200\n",
      "trauma and stress     127\n",
      "trauma and stress      73\n",
      "Name: count, dtype: int64\n",
      "\n",
      "Estadísticas descriptivas de la columna 'Label':\n",
      "count                  800\n",
      "unique                   5\n",
      "top       drug and alcohol\n",
      "freq                   200\n",
      "Name: Label, dtype: object\n",
      "\n",
      "Cantidad de valores nulos en la columna 'Label': 0\n"
     ]
    }
   ],
   "source": [
    "# Ver valores únicos\n",
    "unique_values = df_limpio[\"Label\"].unique()\n",
    "print(f\"Valores únicos en la columna 'Label': {unique_values}\")\n",
    "\n",
    "# Contar la frecuencia de cada valor\n",
    "value_counts = df_limpio[\"Label\"].value_counts()\n",
    "print(\"\\nFrecuencia de cada valor en la columna 'Label':\")\n",
    "print(value_counts)\n",
    "\n",
    "# Calcular estadísticas descriptivas\n",
    "stats = df_limpio[\"Label\"].describe()\n",
    "print(\"\\nEstadísticas descriptivas de la columna 'Label':\")\n",
    "print(stats)\n",
    "\n",
    "# Verificar valores nulos\n",
    "null_count = df_limpio[\"Label\"].isnull().sum()\n",
    "print(f\"\\nCantidad de valores nulos en la columna 'Label': {null_count}\")"
   ]
  },
  {
   "cell_type": "code",
   "execution_count": 31,
   "metadata": {},
   "outputs": [
    {
     "name": "stdout",
     "output_type": "stream",
     "text": [
      "['drug and alcohol' 'early life' 'personality' 'trauma and stress '\n",
      " 'trauma and stress']\n"
     ]
    }
   ],
   "source": [
    "# Convertir todos los valores de la columna 'Label' a minúsculas\n",
    "df_limpio['Label'] = df_limpio['Label'].str.lower()\n",
    "\n",
    "# Mostrar las primeras filas para verificar\n",
    "print(df_limpio['Label'].unique())"
   ]
  },
  {
   "cell_type": "code",
   "execution_count": 33,
   "metadata": {},
   "outputs": [
    {
     "name": "stdout",
     "output_type": "stream",
     "text": [
      "['drug and alcohol' 'early life' 'personality' 'trauma and stress']\n"
     ]
    }
   ],
   "source": [
    "# Eliminar espacios en blanco al principio y al final de los valores en la columna 'Label'\n",
    "df_limpio['Label'] = df_limpio['Label'].str.strip()\n",
    "\n",
    "# Mostrar las etiquetas únicas para verificar\n",
    "print(df_limpio['Label'].unique())"
   ]
  },
  {
   "cell_type": "markdown",
   "metadata": {},
   "source": [
    "## Selftext"
   ]
  },
  {
   "cell_type": "code",
   "execution_count": 34,
   "metadata": {},
   "outputs": [
    {
     "name": "stdout",
     "output_type": "stream",
     "text": [
      "\n",
      "Número medio de palabras en la columna 'selftext': 242.24625\n"
     ]
    }
   ],
   "source": [
    "\n",
    "# Calcular número de palabras por entrada en 'selftext'\n",
    "df_limpio['selftext_word_count'] = df_limpio['selftext'].apply(lambda x: len(str(x).split()))\n",
    "\n",
    "# Calcular la media de palabras\n",
    "mean_words = df_limpio['selftext_word_count'].mean()\n",
    "print(f\"\\nNúmero medio de palabras en la columna 'selftext': {mean_words}\")"
   ]
  },
  {
   "cell_type": "code",
   "execution_count": 37,
   "metadata": {},
   "outputs": [],
   "source": [
    "df_limpio = df_limpio.drop(columns=['selftext_word_count'])"
   ]
  },
  {
   "cell_type": "code",
   "execution_count": null,
   "metadata": {},
   "outputs": [],
   "source": [
    "df_combined['selftext_word_count'] = df_combined['selftext'].apply(lambda x: len(str(x).split()))"
   ]
  },
  {
   "cell_type": "markdown",
   "metadata": {},
   "source": [
    "## Subreddit"
   ]
  },
  {
   "cell_type": "code",
   "execution_count": 35,
   "metadata": {},
   "outputs": [
    {
     "name": "stdout",
     "output_type": "stream",
     "text": [
      "Valores únicos en la columna 'subreddit': ['Anxiety' 'depression' 'mentalhealth' 'SuicideWatch' 'lonely']\n",
      "\n",
      "Frecuencia de cada valor en la columna 'subreddit':\n",
      "subreddit\n",
      "depression      277\n",
      "Anxiety         187\n",
      "mentalhealth    151\n",
      "SuicideWatch    137\n",
      "lonely           48\n",
      "Name: count, dtype: int64\n",
      "\n",
      "Cantidad de valores nulos en la columna 'subreddit': 0\n"
     ]
    }
   ],
   "source": [
    "# Ver valores únicos\n",
    "unique_values = df_limpio[\"subreddit\"].unique()\n",
    "print(f\"Valores únicos en la columna 'subreddit': {unique_values}\")\n",
    "\n",
    "# Contar la frecuencia de cada valor\n",
    "value_counts = df_limpio[\"subreddit\"].value_counts()\n",
    "print(\"\\nFrecuencia de cada valor en la columna 'subreddit':\")\n",
    "print(value_counts)\n",
    "\n",
    "# Verificar valores nulos\n",
    "null_count = df_limpio[\"subreddit\"].isnull().sum()\n",
    "print(f\"\\nCantidad de valores nulos en la columna 'subreddit': {null_count}\")"
   ]
  },
  {
   "cell_type": "markdown",
   "metadata": {},
   "source": [
    "## CAT 1"
   ]
  },
  {
   "cell_type": "code",
   "execution_count": 40,
   "metadata": {},
   "outputs": [
    {
     "name": "stdout",
     "output_type": "stream",
     "text": [
      "Valores únicos en la columna 'CAT 1': [nan 'Relationship' 'Loneliness' 'Work Stress' 'Financial' 'work stress'\n",
      " 'financial' 'DV' 'relationship']\n",
      "\n",
      "Frecuencia de cada valor en la columna 'CAT 1':\n",
      "CAT 1\n",
      "Loneliness      102\n",
      "Relationship     65\n",
      "Financial        16\n",
      "Work Stress      10\n",
      "work stress       3\n",
      "DV                2\n",
      "financial         1\n",
      "relationship      1\n",
      "Name: count, dtype: int64\n",
      "\n",
      "Cantidad de valores nulos en la columna 'CAT 1': 600\n"
     ]
    }
   ],
   "source": [
    "# Ver valores únicos\n",
    "unique_values = df_limpio['CAT 1'].unique()\n",
    "print(f\"Valores únicos en la columna 'CAT 1': {unique_values}\")\n",
    "\n",
    "# Contar la frecuencia de cada valor\n",
    "value_counts = df_limpio['CAT 1'].value_counts()\n",
    "print(\"\\nFrecuencia de cada valor en la columna 'CAT 1':\")\n",
    "print(value_counts)\n",
    "\n",
    "# Verificar valores nulos\n",
    "null_count = df_limpio['CAT 1'].isnull().sum()\n",
    "print(f\"\\nCantidad de valores nulos en la columna 'CAT 1': {null_count}\")"
   ]
  },
  {
   "cell_type": "markdown",
   "metadata": {},
   "source": [
    "# Preprocesado"
   ]
  },
  {
   "cell_type": "code",
   "execution_count": 18,
   "metadata": {},
   "outputs": [
    {
     "name": "stdout",
     "output_type": "stream",
     "text": [
      "                                            selftext  \\\n",
      "0  Tried to watch this documentary “anxious Ameri...   \n",
      "1  i’m currently laying in bed wide awake, feelin...   \n",
      "2  Second time trying weed. First time felt close...   \n",
      "3  I am not posting this for me, but rather for m...   \n",
      "4  21 year old male been dealing with anxiety eve...   \n",
      "\n",
      "                                               title             Label  \n",
      "0                        Do people get over anxiety?  drug and alcohol  \n",
      "1  does anyone else have this big fear of suddenl...  drug and alcohol  \n",
      "2         3 hour long panic attack after trying weed  drug and alcohol  \n",
      "3  Please leave in the comments ANYTHING that has...  drug and alcohol  \n",
      "4                                    Alcohol induced  drug and alcohol  \n"
     ]
    }
   ],
   "source": [
    "# Mantener solo las columnas deseadas\n",
    "df_combined_stl = df_combined[['selftext', 'title', 'Label']]\n",
    "\n",
    "# Mostrar las primeras filas para verificar\n",
    "print(df_combined_stl.head())"
   ]
  },
  {
   "cell_type": "code",
   "execution_count": 19,
   "metadata": {},
   "outputs": [
    {
     "name": "stdout",
     "output_type": "stream",
     "text": [
      "Distribución de etiquetas (original):\n",
      "Label\n",
      "drug and alcohol     200\n",
      "early life           200\n",
      "personality          200\n",
      "trauma and stress    200\n",
      "Name: count, dtype: int64\n"
     ]
    }
   ],
   "source": [
    "print(\"Distribución de etiquetas (original):\")\n",
    "print(df_combined_stl['Label'].value_counts())"
   ]
  },
  {
   "cell_type": "code",
   "execution_count": 20,
   "metadata": {},
   "outputs": [
    {
     "name": "stdout",
     "output_type": "stream",
     "text": [
      "                                                Text\n",
      "0  Title: Do people get over anxiety? Text: Tried...\n",
      "1  Title: does anyone else have this big fear of ...\n",
      "2  Title: 3 hour long panic attack after trying w...\n",
      "3  Title: Please leave in the comments ANYTHING t...\n",
      "4  Title: Alcohol induced Text: 21 year old male ...\n"
     ]
    },
    {
     "name": "stderr",
     "output_type": "stream",
     "text": [
      "C:\\Users\\carlo\\AppData\\Local\\Temp\\ipykernel_10744\\1944287341.py:1: SettingWithCopyWarning: \n",
      "A value is trying to be set on a copy of a slice from a DataFrame.\n",
      "Try using .loc[row_indexer,col_indexer] = value instead\n",
      "\n",
      "See the caveats in the documentation: https://pandas.pydata.org/pandas-docs/stable/user_guide/indexing.html#returning-a-view-versus-a-copy\n",
      "  df_combined_stl['Text'] = df_combined_stl.apply(\n"
     ]
    }
   ],
   "source": [
    "df_combined_stl['Text'] = df_combined_stl.apply(\n",
    "    lambda row: f\"Title: {row['title']} Text: {row['selftext']}\", axis=1\n",
    ")\n",
    "\n",
    "# Mostrar las primeras filas para verificar\n",
    "print(df_combined_stl[['Text']].head())"
   ]
  },
  {
   "cell_type": "code",
   "execution_count": 21,
   "metadata": {},
   "outputs": [
    {
     "name": "stdout",
     "output_type": "stream",
     "text": [
      "                                                Text             Label\n",
      "0  Title: Do people get over anxiety? Text: Tried...  drug and alcohol\n",
      "1  Title: does anyone else have this big fear of ...  drug and alcohol\n",
      "2  Title: 3 hour long panic attack after trying w...  drug and alcohol\n",
      "3  Title: Please leave in the comments ANYTHING t...  drug and alcohol\n",
      "4  Title: Alcohol induced Text: 21 year old male ...  drug and alcohol\n"
     ]
    }
   ],
   "source": [
    "df_final = df_combined_stl[['Text', 'Label']]\n",
    "\n",
    "# Mostrar las primeras filas para verificar\n",
    "print(df_final.head())"
   ]
  },
  {
   "cell_type": "markdown",
   "metadata": {},
   "source": [
    "# Balanceo de clases"
   ]
  },
  {
   "cell_type": "code",
   "execution_count": 24,
   "metadata": {},
   "outputs": [
    {
     "name": "stdout",
     "output_type": "stream",
     "text": [
      "Distribución de clases:\n",
      " Label\n",
      "drug and alcohol     200\n",
      "early life           200\n",
      "personality          200\n",
      "trauma and stress    200\n",
      "Name: count, dtype: int64\n"
     ]
    },
    {
     "name": "stderr",
     "output_type": "stream",
     "text": [
      "C:\\Users\\carlo\\AppData\\Local\\Temp\\ipykernel_10744\\1079478613.py:10: FutureWarning: \n",
      "\n",
      "Passing `palette` without assigning `hue` is deprecated and will be removed in v0.14.0. Assign the `x` variable to `hue` and set `legend=False` for the same effect.\n",
      "\n",
      "  sns.countplot(data=df_final, x='Label', palette='viridis')\n"
     ]
    },
    {
     "data": {
      "image/png": "[encoded data removed]",
      "text/plain": [
       "<Figure size 800x500 with 1 Axes>"
      ]
     },
     "metadata": {},
     "output_type": "display_data"
    }
   ],
   "source": [
    "import pandas as pd\n",
    "import matplotlib.pyplot as plt\n",
    "import seaborn as sns\n",
    "\n",
    "conteo_clases = df_final['Label'].value_counts()\n",
    "print(\"Distribución de clases:\\n\", conteo_clases)\n",
    "\n",
    "# 2. Gráfico de barras\n",
    "plt.figure(figsize=(8, 5))\n",
    "sns.countplot(data=df_final, x='Label', palette='viridis')\n",
    "plt.title('Distribución de Clases')\n",
    "plt.xlabel('Clase')\n",
    "plt.ylabel('Cantidad de muestras')\n",
    "plt.show()"
   ]
  },
  {
   "cell_type": "markdown",
   "metadata": {},
   "source": [
    "# Resultado"
   ]
  },
  {
   "cell_type": "code",
   "execution_count": null,
   "metadata": {},
   "outputs": [],
   "source": [
    "df_final.to_csv(\"preprocessed.csv\", index=False)"
   ]
  }
 ],
 "metadata": {
  "kernelspec": {
   "display_name": "base",
   "language": "python",
   "name": "python3"
  },
  "language_info": {
   "codemirror_mode": {
    "name": "ipython",
    "version": 3
   },
   "file_extension": ".py",
   "mimetype": "text/x-python",
   "name": "python",
   "nbconvert_exporter": "python",
   "pygments_lexer": "ipython3",
   "version": "3.12.7"
  }
 },
 "nbformat": 4,
 "nbformat_minor": 2
}
